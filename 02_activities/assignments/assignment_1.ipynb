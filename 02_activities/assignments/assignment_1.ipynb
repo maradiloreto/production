{
 "cells": [
  {
   "cell_type": "markdown",
   "metadata": {},
   "source": [
    "# Working with parquet files\n",
    "\n",
    "## Objective\n",
    "\n",
    "+ In this assignment, we will use the data downloaded with the module `data_manager` to create features.\n",
    "\n",
    "(11 pts total)\n",
    "\n",
    "## Prerequisites\n",
    "\n",
    "+ This notebook assumes that price data is available to you in the environment variable `PRICE_DATA`. If you have not done so, then execute the notebook `01_materials/labs/2_data_engineering.ipynb` to create this data set.\n"
   ]
  },
  {
   "cell_type": "markdown",
   "metadata": {},
   "source": [
    "+ Load the environment variables using dotenv. (1 pt)"
   ]
  },
  {
   "cell_type": "code",
   "execution_count": 13,
   "metadata": {},
   "outputs": [
    {
     "data": {
      "text/plain": [
       "True"
      ]
     },
     "execution_count": 13,
     "metadata": {},
     "output_type": "execute_result"
    }
   ],
   "source": [
    "# Write your code below.\n",
    "from dotenv import load_dotenv\n",
    "import os\n",
    "load_dotenv()"
   ]
  },
  {
   "cell_type": "code",
   "execution_count": 14,
   "metadata": {},
   "outputs": [],
   "source": [
    "import dask.dataframe as dd"
   ]
  },
  {
   "cell_type": "markdown",
   "metadata": {},
   "source": [
    "+ Load the environment variable `PRICE_DATA`.\n",
    "+ Use [glob](https://docs.python.org/3/library/glob.html) to find the path of all parquet files in the directory `PRICE_DATA`.\n",
    "\n",
    "(1pt)"
   ]
  },
  {
   "cell_type": "code",
   "execution_count": 15,
   "metadata": {},
   "outputs": [],
   "source": [
    "import os\n",
    "from glob import glob\n",
    "\n",
    "# Write your code below.\n",
    "PRICE_DATA = os.getenv(\"PRICE_DATA\")\n",
    "parquet_files = glob(os.path.join(PRICE_DATA, \"**/*.parquet\"), recursive = True)\n",
    "\n"
   ]
  },
  {
   "cell_type": "markdown",
   "metadata": {},
   "source": [
    "For each ticker and using Dask, do the following:\n",
    "\n",
    "+ Add lags for variables Close and Adj_Close.\n",
    "+ Add returns based on Close:\n",
    "    \n",
    "    - `returns`: (Close / Close_lag_1) - 1\n",
    "\n",
    "+ Add the following range: \n",
    "\n",
    "    - `hi_lo_range`: this is the day's High minus Low.\n",
    "\n",
    "+ Assign the result to `dd_feat`.\n",
    "\n",
    "(4 pt)"
   ]
  },
  {
   "cell_type": "code",
   "execution_count": 16,
   "metadata": {},
   "outputs": [
    {
     "name": "stderr",
     "output_type": "stream",
     "text": [
      "/var/folders/rp/4_wz6kc51h95rr7rqf2zlns80000gn/T/ipykernel_3914/97323550.py:6: UserWarning: `meta` is not specified, inferred from partial data. Please provide `meta` if the result is unexpected.\n",
      "  Before: .apply(func)\n",
      "  After:  .apply(func, meta={'x': 'f8', 'y': 'f8'}) for dataframe result\n",
      "  or:     .apply(func, meta=('x', 'f8'))            for series result\n",
      "  dd_lags_close = dd_px.groupby('Ticker', group_keys=False).apply(\n",
      "/var/folders/rp/4_wz6kc51h95rr7rqf2zlns80000gn/T/ipykernel_3914/97323550.py:10: UserWarning: `meta` is not specified, inferred from partial data. Please provide `meta` if the result is unexpected.\n",
      "  Before: .apply(func)\n",
      "  After:  .apply(func, meta={'x': 'f8', 'y': 'f8'}) for dataframe result\n",
      "  or:     .apply(func, meta=('x', 'f8'))            for series result\n",
      "  dd_lags_AdjClose = dd_px.groupby('Ticker', group_keys=False).apply(\n",
      "/var/folders/rp/4_wz6kc51h95rr7rqf2zlns80000gn/T/ipykernel_3914/97323550.py:22: UserWarning: `meta` is not specified, inferred from partial data. Please provide `meta` if the result is unexpected.\n",
      "  Before: .apply(func)\n",
      "  After:  .apply(func, meta={'x': 'f8', 'y': 'f8'}) for dataframe result\n",
      "  or:     .apply(func, meta=('x', 'f8'))            for series result\n",
      "  dd_lags_hi_lo = dd_px.groupby('Ticker', group_keys=False).apply(\n"
     ]
    }
   ],
   "source": [
    "# Write your code below.\n",
    "\n",
    "dd_px = dd.read_parquet(parquet_files).set_index(\"Ticker\")\n",
    "\n",
    "# adding lags for variable Close\n",
    "dd_lags_close = dd_px.groupby('Ticker', group_keys=False).apply(\n",
    "    lambda x: x.assign(Close_lag_1 = x['Close'].shift(1))  \n",
    ")\n",
    "# adding lags for variacle Adj Close\n",
    "dd_lags_AdjClose = dd_px.groupby('Ticker', group_keys=False).apply(\n",
    "    lambda x: x.assign(AdjClose_lag_1 = x['Adj Close'].shift(1))  \n",
    ")\n",
    "# adding returns for variable Close\n",
    "dd_rets1 = dd_lags_close.assign(\n",
    "    Close_returns = lambda x: x['Close'] / x['Close_lag_1'] - 1  \n",
    ")\n",
    "# adding returns for variable Adj Close\n",
    "dd_rets2 = dd_lags_AdjClose.assign(\n",
    "    Adj_Close_returns = lambda x: x['Adj Close'] / x['AdjClose_lag_1'] - 1  \n",
    ")\n",
    "# adding hi_lo_range\n",
    "dd_lags_hi_lo = dd_px.groupby('Ticker', group_keys=False).apply(\n",
    "    lambda x: x.assign(hi_lo_range = x['High'] - x['Low'])  \n",
    ")\n",
    "\n",
    "dd_feat = dd.concat([dd_rets1, dd_rets2[['Adj_Close_returns']], dd_lags_hi_lo[['hi_lo_range']]], axis=1)\n",
    "\n",
    "\n"
   ]
  },
  {
   "cell_type": "markdown",
   "metadata": {},
   "source": [
    "+ Convert the Dask data frame to a pandas data frame. \n",
    "+ Add a new feature containing the moving average of `returns` using a window of 10 days. There are several ways to solve this task, a simple one uses `.rolling(10).mean()`.\n",
    "\n",
    "(3 pt)"
   ]
  },
  {
   "cell_type": "code",
   "execution_count": 23,
   "metadata": {},
   "outputs": [
    {
     "name": "stdout",
     "output_type": "stream",
     "text": [
      "Price        Date   Adj Close       Close        High         Low        Open  \\\n",
      "Ticker                                                                          \n",
      "DOV    2024-01-02  149.826508  151.520004  154.050003  150.979996  153.169998   \n",
      "DOV    2024-01-03  146.672165  148.330002  150.399994  147.690002  150.330002   \n",
      "DOV    2024-01-04  146.444733  148.100006  149.380005  147.940002  148.699997   \n",
      "DOV    2024-01-05  145.841553  147.490005  148.369995  146.850006  147.500000   \n",
      "DOV    2024-01-08  146.573273  148.229996  148.339996  145.839996  146.559998   \n",
      "\n",
      "Price      Volume  Year  Close_lag_1  Close_returns  Adj_Close_returns  \\\n",
      "Ticker                                                                   \n",
      "DOV      695400.0  2024          NaN            NaN                NaN   \n",
      "DOV      844800.0  2024   151.520004      -0.021053          -0.021053   \n",
      "DOV      873400.0  2024   148.330002      -0.001551          -0.001551   \n",
      "DOV      878500.0  2024   148.100006      -0.004119          -0.004119   \n",
      "DOV     1012700.0  2024   147.490005       0.005017           0.005017   \n",
      "\n",
      "Price   hi_lo_range   returns  returns_ma  \n",
      "Ticker                                     \n",
      "DOV        3.070007       NaN         NaN  \n",
      "DOV        2.709991 -0.021053   -0.021053  \n",
      "DOV        1.440002 -0.001551   -0.011302  \n",
      "DOV        1.519989 -0.004119   -0.008908  \n",
      "DOV        2.500000  0.005017   -0.005426  \n"
     ]
    }
   ],
   "source": [
    "import dask.dataframe as dd\n",
    "\n",
    "# Function to apply rolling mean on each partition\n",
    "def rolling_mean_partition(df):\n",
    "    # Ensure that 'returns' column exists before applying rolling\n",
    "    df['returns'] = df['Close_returns'].combine_first(df['Adj_Close_returns'])\n",
    "    \n",
    "    # Apply rolling mean on the 'returns' column\n",
    "    df['returns_ma'] = df['returns'].rolling(10, min_periods=1).mean()\n",
    "    return df\n",
    "\n",
    "# Apply the function to each partition using map_partitions\n",
    "dd_feat = dd_feat.map_partitions(rolling_mean_partition)\n",
    "\n",
    "# Compute the final DataFrame\n",
    "dd_feat_pd = dd_feat.compute()\n",
    "\n",
    "# Print the result\n",
    "print(dd_feat_pd.head())\n"
   ]
  },
  {
   "cell_type": "markdown",
   "metadata": {},
   "source": [
    "Please comment:\n",
    "\n",
    "+ Was it necessary to convert to pandas to calculate the moving average return?\n",
    " No, Dask can handle rolling windows and moving averages, just like Pandas. We only need to switch to Pandas if we're working with a small dataset that fits in memory.\n",
    "\n",
    "+ Would it have been better to do it in Dask? Why?\n",
    "Since the dataset is large, using Dask might be better because it manages memory more efficiently and processes data only when needed.\n",
    "\n",
    "(1 pt)"
   ]
  },
  {
   "cell_type": "markdown",
   "metadata": {},
   "source": [
    "## Criteria\n",
    "\n",
    "The [rubric](./assignment_1_rubric_clean.xlsx) contains the criteria for grading."
   ]
  },
  {
   "cell_type": "markdown",
   "metadata": {},
   "source": []
  },
  {
   "cell_type": "markdown",
   "metadata": {},
   "source": [
    "## Submission Information\n",
    "\n",
    "🚨 **Please review our [Assignment Submission Guide](https://github.com/UofT-DSI/onboarding/blob/main/onboarding_documents/submissions.md)** 🚨 for detailed instructions on how to format, branch, and submit your work. Following these guidelines is crucial for your submissions to be evaluated correctly.\n",
    "\n",
    "### Submission Parameters:\n",
    "* Submission Due Date: `HH:MM AM/PM - DD/MM/YYYY`\n",
    "* The branch name for your repo should be: `assignment-1`\n",
    "* What to submit for this assignment:\n",
    "    * This Jupyter Notebook (assignment_1.ipynb) should be populated and should be the only change in your pull request.\n",
    "* What the pull request link should look like for this assignment: `https://github.com/<your_github_username>/production/pull/<pr_id>`\n",
    "    * Open a private window in your browser. Copy and paste the link to your pull request into the address bar. Make sure you can see your pull request properly. This helps the technical facilitator and learning support staff review your submission easily.\n",
    "\n",
    "Checklist:\n",
    "- [ ] Created a branch with the correct naming convention.\n",
    "- [ ] Ensured that the repository is public.\n",
    "- [ ] Reviewed the PR description guidelines and adhered to them.\n",
    "- [ ] Verify that the link is accessible in a private browser window.\n",
    "\n",
    "If you encounter any difficulties or have questions, please don't hesitate to reach out to our team via our Slack at `#cohort-3-help`. Our Technical Facilitators and Learning Support staff are here to help you navigate any challenges."
   ]
  }
 ],
 "metadata": {
  "kernelspec": {
   "display_name": "dsi_participant",
   "language": "python",
   "name": "python3"
  },
  "language_info": {
   "codemirror_mode": {
    "name": "ipython",
    "version": 3
   },
   "file_extension": ".py",
   "mimetype": "text/x-python",
   "name": "python",
   "nbconvert_exporter": "python",
   "pygments_lexer": "ipython3",
   "version": "3.9.20"
  }
 },
 "nbformat": 4,
 "nbformat_minor": 2
}
